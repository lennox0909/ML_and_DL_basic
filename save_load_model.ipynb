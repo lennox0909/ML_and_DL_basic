{
 "cells": [
  {
   "cell_type": "markdown",
   "metadata": {},
   "source": [
    "# Saving/Loading model with Keras\n",
    "* https://keras.io/models/about-keras-models/\n",
    "* https://keras.io/getting-started/faq/\n",
    "\n",
    "* Build model\n",
    "* Save model architecture to Json (use one of them)\n",
    "    * `model.to_json()`\n",
    "    * `model.get_config()`\n",
    "* Reinstantiate the model with json file (use one of them)\n",
    "```python\n",
    "# from json\n",
    "from keras.models import model_from_json\n",
    "model = model_from_json(json_string)\n",
    "# from config.json\n",
    "from keras.models import Model\n",
    "model = Model.from_config(json_string)\n",
    "```\n",
    "* Saving/loading whole models (architecture + weights + optimizer state), from H5 file\n",
    "* Saving/loading only a model's weights, from H5 file"
   ]
  },
  {
   "cell_type": "markdown",
   "metadata": {},
   "source": [
    "## Build model"
   ]
  },
  {
   "cell_type": "code",
   "execution_count": null,
   "metadata": {},
   "outputs": [],
   "source": [
    "import keras\n",
    "from keras.layers import Input, Dense, Conv2D, MaxPool2D, Flatten, GlobalAveragePooling2D\n",
    "from keras.models import Model\n",
    "from keras.utils import to_categorical"
   ]
  },
  {
   "cell_type": "code",
   "execution_count": null,
   "metadata": {},
   "outputs": [],
   "source": [
    "inputs = Input(shape=(128, 128, 3))\n",
    "x = Conv2D(filters=16, kernel_size=3, activation='relu')(inputs)\n",
    "x = Conv2D(filters=16, kernel_size=3, activation='relu')(x)\n",
    "x = MaxPool2D(2)(x)\n",
    "x = Conv2D(filters=16, kernel_size=3, activation='relu')(x)\n",
    "x = Conv2D(filters=16, kernel_size=3, activation='relu')(x)\n",
    "x = MaxPool2D(2)(x)\n",
    "x = Flatten()(x)\n",
    "x = Dense(64, activation=keras.activations.relu)(x)\n",
    "prediction = Dense(4, activation='softmax')(x)\n",
    "model = Model(inputs=inputs, outputs=prediction, name='CNN_MLP')\n",
    "model.summary()"
   ]
  },
  {
   "cell_type": "markdown",
   "metadata": {},
   "source": [
    "## Get model architecture / config"
   ]
  },
  {
   "cell_type": "code",
   "execution_count": null,
   "metadata": {},
   "outputs": [],
   "source": [
    "model_json = model.to_json()\n",
    "model_config = model.get_config()"
   ]
  },
  {
   "cell_type": "markdown",
   "metadata": {},
   "source": [
    "## Save model architecture to Json"
   ]
  },
  {
   "cell_type": "code",
   "execution_count": null,
   "metadata": {},
   "outputs": [],
   "source": [
    "import json\n",
    "\n",
    "with open('CNN_MLP_model.json', 'w', encoding='utf-8') as f:\n",
    "    json.dump(model_json, f, ensure_ascii=False, indent=4)\n",
    "f.close()\n",
    "    \n",
    "with open('CNN_MLP_config.json', 'w', encoding='utf-8') as f:\n",
    "    json.dump(model_config, f, ensure_ascii=False, indent=4)\n",
    "f.close()"
   ]
  },
  {
   "cell_type": "markdown",
   "metadata": {},
   "source": [
    "## Read json"
   ]
  },
  {
   "cell_type": "code",
   "execution_count": null,
   "metadata": {},
   "outputs": [],
   "source": [
    "import json\n",
    "\n",
    "with open('CNN_MLP_model.json', encoding='utf-8') as f:\n",
    "    model_j = json.load(f)\n",
    "f.close()"
   ]
  },
  {
   "cell_type": "code",
   "execution_count": null,
   "metadata": {},
   "outputs": [],
   "source": [
    "with open('CNN_MLP_config.json', encoding='utf-8') as f:\n",
    "    model_config = json.load(f)\n",
    "f.close()"
   ]
  },
  {
   "cell_type": "markdown",
   "metadata": {},
   "source": [
    "## Reinstantiate the model with json file"
   ]
  },
  {
   "cell_type": "code",
   "execution_count": null,
   "metadata": {},
   "outputs": [],
   "source": [
    "from keras.models import model_from_json\n",
    "model = model_from_json(model_j)"
   ]
  },
  {
   "cell_type": "code",
   "execution_count": null,
   "metadata": {},
   "outputs": [],
   "source": [
    "model.summary()"
   ]
  },
  {
   "cell_type": "markdown",
   "metadata": {},
   "source": [
    "## Reinstantiate the model with model_config.json"
   ]
  },
  {
   "cell_type": "code",
   "execution_count": null,
   "metadata": {},
   "outputs": [],
   "source": [
    "model = Model.from_config(model_config)"
   ]
  },
  {
   "cell_type": "code",
   "execution_count": null,
   "metadata": {},
   "outputs": [],
   "source": [
    "model.summary()"
   ]
  },
  {
   "cell_type": "markdown",
   "metadata": {},
   "source": [
    "## Saving/loading whole models (architecture + weights + optimizer state), from H5 file"
   ]
  },
  {
   "cell_type": "code",
   "execution_count": null,
   "metadata": {},
   "outputs": [],
   "source": [
    "model.save('CNN_MLP.h5')"
   ]
  },
  {
   "cell_type": "code",
   "execution_count": null,
   "metadata": {},
   "outputs": [],
   "source": [
    "del model  # deletes the existing model"
   ]
  },
  {
   "cell_type": "code",
   "execution_count": null,
   "metadata": {},
   "outputs": [],
   "source": [
    "from keras.models import load_model\n",
    "model = load_model('CNN_MLP.h5')"
   ]
  },
  {
   "cell_type": "markdown",
   "metadata": {},
   "source": [
    "## Saving/loading only a model's weights, from H5 file"
   ]
  },
  {
   "cell_type": "code",
   "execution_count": null,
   "metadata": {},
   "outputs": [],
   "source": [
    "model.save_weights('CNN_MLP_weights.h5')"
   ]
  },
  {
   "cell_type": "code",
   "execution_count": null,
   "metadata": {},
   "outputs": [],
   "source": [
    "model.load_weights('CNN_MLP_weights.h5')"
   ]
  },
  {
   "cell_type": "code",
   "execution_count": null,
   "metadata": {},
   "outputs": [],
   "source": []
  }
 ],
 "metadata": {
  "kernelspec": {
   "display_name": "Python 3",
   "language": "python",
   "name": "python3"
  },
  "language_info": {
   "codemirror_mode": {
    "name": "ipython",
    "version": 3
   },
   "file_extension": ".py",
   "mimetype": "text/x-python",
   "name": "python",
   "nbconvert_exporter": "python",
   "pygments_lexer": "ipython3",
   "version": "3.6.0"
  }
 },
 "nbformat": 4,
 "nbformat_minor": 2
}
